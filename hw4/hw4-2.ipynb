{
 "cells": [
  {
   "cell_type": "markdown",
   "metadata": {},
   "source": [
    "# Linear algebra for electrical systems homework 4\n",
    "### <i> Determinants and SVD -- DUE 11/24"
   ]
  },
  {
   "cell_type": "markdown",
   "metadata": {},
   "source": [
    "#####  - Professor Young Min Kim\n",
    "#####  - TAs: Junho Lee, Hojun Jang\n",
    "#####  - TA email: twjhlee@snu.ac.kr\n",
    "***"
   ]
  },
  {
   "cell_type": "markdown",
   "metadata": {},
   "source": [
    "### <b> Problem 1 - Determinants via recursion\n",
    "In this problem you will be asked to complete a function to calculate the determinant of a matrix via Laplace expansion.\n",
    "The given function get determinant is a recursive function which aims to find the determinant by perfoming Laplace expansion on the first row of the given matrix.\n",
    "See https://en.wikipedia.org/wiki/Laplace_expansion for further details on Laplace expansion\n",
    "##### Please read the comments carefully and fill in the TODO marks"
   ]
  },
  {
   "cell_type": "code",
   "execution_count": null,
   "metadata": {},
   "outputs": [],
   "source": [
    "import numpy as np\n",
    "import time"
   ]
  },
  {
   "cell_type": "code",
   "execution_count": null,
   "metadata": {},
   "outputs": [],
   "source": [
    "def get_determinant(matrix):\n",
    "    \"\"\"Function to get determinant via recursion. Termination conditions: matrix is a 2-by-2 matrix\n",
    "    When given matrix is 2-by-2, use known determinant calculation equation, else, use recursion\n",
    "    [Input]:\n",
    "        matrix: np.ndarray of NxN shape(N >= 2)\n",
    "    \"\"\"\n",
    "    H, W = matrix.shape\n",
    "    if H == 2 and W == 2:\n",
    "        # Termination condition\n",
    "        #################### TODO ##########################\n",
    "\n",
    "    else:\n",
    "        #################### TODO ##########################"
   ]
  },
  {
   "cell_type": "code",
   "execution_count": null,
   "metadata": {},
   "outputs": [],
   "source": [
    "# Now, let's test the function's correctness!\n",
    "A = np.array([\n",
    "    [1, 0, 1],\n",
    "    [2, 0 ,-1],\n",
    "    [-3, 1, 2]\n",
    "])\n",
    "det = get_determinant(A)\n",
    "npDet = int(np.linalg.det(A))\n",
    "\n",
    "if det == npDet:\n",
    "    print(\"Success!\")\n",
    "else:\n",
    "    print(\"Try again\")\n"
   ]
  },
  {
   "cell_type": "markdown",
   "metadata": {},
   "source": [
    "### <b> Problem 2 - Determinants via LU decomposition\n",
    "We've implemented a function to get the determinants via recursion.\n",
    "However, this approach has a crucial drawback.\n",
    "It get's exponentially slower when the input matrix gets larger.\n",
    "This can be avoided via LU decompostion!\n",
    "For triangular matrices L and U, you can calculate the determinant by simply multiplying the diagonal elements.\n",
    "More information can be found here: https://en.wikipedia.org/wiki/LU_decomposition#Computing_the_determinant\n",
    "In this question, you will be asked to simulate this and compare with numpy's determinant function and use LU decomposition to prevent such time complexity.\n",
    "##### Please read the comments carefully and fill in the TODO marks"
   ]
  },
  {
   "cell_type": "code",
   "execution_count": null,
   "metadata": {},
   "outputs": [],
   "source": [
    "# simulate for input matrix of dimensions 2 to 10\n",
    "# will take about 30 seconds\n",
    "reps = []\n",
    "reps_np = []\n",
    "for dim in range(2, 11):\n",
    "    example = np.random.randint(5, size=(dim, dim))\n",
    "    tick = time.time()\n",
    "    det = get_determinant(example)\n",
    "    tock = time.time()\n",
    "    reps.append(tock - tick)\n",
    "    tick = time.time()\n",
    "    npDet = np.linalg.det(example)\n",
    "    tock = time.time()\n",
    "    reps_np.append(tock - tick)"
   ]
  },
  {
   "cell_type": "code",
   "execution_count": null,
   "metadata": {},
   "outputs": [],
   "source": [
    "# visualization of the results\n",
    "import matplotlib.pyplot as plt\n",
    "plt.plot(reps, label='recursive')\n",
    "plt.plot(reps_np, label='numpy')\n",
    "plt.xlabel('dim of matrix')\n",
    "plt.ylabel('time')\n",
    "plt.legend()"
   ]
  },
  {
   "cell_type": "code",
   "execution_count": null,
   "metadata": {},
   "outputs": [],
   "source": [
    "# Use LU decomposition to obtain the determinant of a matrix\n",
    "from scipy.linalg import lu\n",
    "reps = []\n",
    "for dim in range(2, 11):\n",
    "    example = np.random.randint(5, size=(dim, dim))\n",
    "    tick = time.time()\n",
    "    P, L, U = lu(example)\n",
    "    nswaps = len(np.diag(P)) - np.sum(np.diag(P)) - 1\n",
    "\n",
    "    detP = np.linalg.det(P)\n",
    "    ################ TODO ##################\n",
    "    \"\"\"\n",
    "    From the LU decomposition results of the exmaple matrix, obtain the determinants for L and U.\n",
    "    Then the determinant for the original matrix can be obtined by multiplying the determinants for all P, L, and U.\n",
    "    The determinants for P are given\n",
    "    \"\"\"\n",
    "\n",
    "    tock = time.time()\n",
    "    reps.append(tock - tick)"
   ]
  },
  {
   "cell_type": "code",
   "execution_count": null,
   "metadata": {},
   "outputs": [],
   "source": [
    "#visualization of the results\n",
    "plt.plot(reps, label='LU')\n",
    "plt.xlabel('dim of matrix')\n",
    "plt.ylabel('time')\n",
    "plt.legend()"
   ]
  },
  {
   "cell_type": "markdown",
   "metadata": {},
   "source": [
    "### <b> Problem 3 - SVD\n",
    "What is the solution of $Ax = b$?\n",
    "Since $A$'s inverse may not exist, we will look for a least square solution via getting the left pseudoinvert of $A$.\n",
    "This can be done via singular value decompositon or SVD.\n",
    "As you've learned in class, afte SVD, an $m$ by $n$ matrix can be written as \n",
    "$A = U \\Sigma V^{\\top}$.\n",
    "The left pseudoinverse $A^{+}$ can be written down as\n",
    "$A^{+} = V \\Sigma^{+} U^{\\top}$,\n",
    "where $\\Sigma^+$ is a diagonal matrix consisting of the reciprocals(역수) of $A$'s singular values(followed by zeros).\n",
    "##### In this question, you will be asked to complete the blanks to obtain the pseudoinverse of matrix $A$"
   ]
  },
  {
   "cell_type": "code",
   "execution_count": null,
   "metadata": {},
   "outputs": [],
   "source": [
    "def get_pinv(A):\n",
    "    \"\"\"This fucntion computes the Psuedo INVerse of A.\n",
    "    Hint: use np.linalg.svd for singular value decomposition\n",
    "    DO NOT USE ANY TYPE OF PINV LIBRARY\n",
    "    [Input]\n",
    "        A: np.ndarray input matrix\n",
    "    [Returns]\n",
    "        left psuedo inverse of A\n",
    "    \"\"\"\n",
    "    ############################### TODO ##############################3"
   ]
  },
  {
   "cell_type": "code",
   "execution_count": null,
   "metadata": {},
   "outputs": [],
   "source": [
    "## Let's check if you've got the correct results\n",
    "A = np.random.randn(5, 4)\n",
    "np_inv = np.linalg.pinv(A)\n",
    "our_inv = get_pinv(A)\n",
    "print(np.allclose(np_inv, our_inv))\n",
    "\n",
    "A = np.random.randn(10, 6)\n",
    "np_inv = np.linalg.pinv(A)\n",
    "our_inv = get_pinv(A)\n",
    "print(np.allclose(np_inv, our_inv))\n",
    "\n",
    "A = np.random.randn(4, 3)\n",
    "np_inv = np.linalg.pinv(A)\n",
    "our_inv = get_pinv(A)\n",
    "print(np.allclose(np_inv, our_inv))\n",
    "\n",
    "A = np.random.randn(5, 7)\n",
    "np_inv = np.linalg.pinv(A)\n",
    "our_inv = get_pinv(A)\n",
    "print(np.allclose(np_inv, our_inv))"
   ]
  }
 ],
 "metadata": {
  "kernelspec": {
   "display_name": "Python 3.9.12 ('pads')",
   "language": "python",
   "name": "python3"
  },
  "language_info": {
   "codemirror_mode": {
    "name": "ipython",
    "version": 3
   },
   "file_extension": ".py",
   "mimetype": "text/x-python",
   "name": "python",
   "nbconvert_exporter": "python",
   "pygments_lexer": "ipython3",
   "version": "3.9.12"
  },
  "orig_nbformat": 4,
  "vscode": {
   "interpreter": {
    "hash": "b6fcdbe2229cfc9c0b5565b76f8dca42fc259c8c3f37a351a7ddc38cabb12f8c"
   }
  }
 },
 "nbformat": 4,
 "nbformat_minor": 2
}
