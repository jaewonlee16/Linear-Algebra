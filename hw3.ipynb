{
 "cells": [
  {
   "cell_type": "markdown",
   "metadata": {},
   "source": [
    "# Linear Algebra for Electrical Systems HW 3\n",
    "### <i> Gram-Schmidt and QR factorization -- DUE 11/10"
   ]
  },
  {
   "cell_type": "markdown",
   "metadata": {},
   "source": [
    "#####  - Professor Young Min Kim\n",
    "#####  - TAs: Junho Lee, Hojun Jang\n",
    "#####  - TA email: j12040208@snu.ac.kr\n",
    "***"
   ]
  },
  {
   "cell_type": "markdown",
   "metadata": {},
   "source": [
    "- Please fill out all `TODO` annotated parts.\n",
    "- You should **NOT** use methods under `np.linalg` API. Please use generic `numpy` methods."
   ]
  },
  {
   "cell_type": "markdown",
   "metadata": {},
   "source": [
    "### <b> Problem 1 - Gram-Schmidt Algorithm\n",
    "##### In this problem you will be asked to fill in the blanks to implement Gram-Schmidt algorithm via python.\n",
    "##### Please read the comments carefully and fill in the TODO marks."
   ]
  },
  {
   "cell_type": "code",
   "execution_count": null,
   "metadata": {
    "tags": []
   },
   "outputs": [],
   "source": [
    "import matplotlib.pyplot as plt\n",
    "import matplotlib as mpl\n",
    "%matplotlib inline\n",
    "import numpy as np\n",
    "from mpl_toolkits.mplot3d import Axes3D\n",
    "import scipy as sp\n",
    "import sympy as sy\n",
    "sy.init_printing()"
   ]
  },
  {
   "cell_type": "markdown",
   "metadata": {},
   "source": [
    "First we plot the $W=\\operatorname{Span}\\left\\{\\mathbf{a}_{1}, \\mathbf{a}_{2},\\mathbf{a}_{3}\\right\\}$."
   ]
  },
  {
   "cell_type": "code",
   "execution_count": null,
   "metadata": {},
   "outputs": [],
   "source": [
    "plt.clf()\n",
    "######################## Subspace W ##############################\n",
    "s = np.linspace(-1, 1, 10)\n",
    "t = np.linspace(-1, 1, 10)\n",
    "S, T = np.meshgrid(s, t)\n",
    "\n",
    "# define our vectors\n",
    "vec = np.array([[[0, 0, 0, 3, 6, 2]],\n",
    "                [[0, 0, 0, 1, 2, 4]],\n",
    "                [[0, 0, 0, 2, -2, 1]]])\n",
    "\n",
    "X = vec[0,:,3] * S + vec[1,:,3] * T\n",
    "Y = vec[0,:,4] * S + vec[1,:,4] * T\n",
    "Z = vec[0,:,5] * S + vec[1,:,5] * T\n",
    "\n",
    "fig = plt.figure(figsize = (7, 7))\n",
    "ax = fig.add_subplot(projection='3d')\n",
    "ax.plot_wireframe(X, Y, Z, linewidth = 1.5, alpha = .3)\n",
    "\n",
    "############################# x1 and x2 ##############################\n",
    "colors = ['r','b','g']\n",
    "s = ['$a_1$', '$a_2$', '$a_3$']\n",
    "for i in range(vec.shape[0]):\n",
    "    X,Y,Z,U,V,W = zip(*vec[i,:,:])\n",
    "    ax.quiver(X, Y, Z, U, V, W, length=1, normalize=False,\n",
    "              color = colors[i], alpha = .6,arrow_length_ratio = .08, pivot = 'tail',\n",
    "              linestyles = 'solid',linewidths = 3)\n",
    "    ax.text(vec[i,:,3][0], vec[i,:,4][0], vec[i,:,5][0], s = s[i], size = 15)\n",
    "\n",
    "ax.set_xlabel('x-axis')\n",
    "ax.set_ylabel('y-axis')\n",
    "ax.set_zlabel('z-axis')\n",
    "plt.show()"
   ]
  },
  {
   "cell_type": "markdown",
   "metadata": {},
   "source": [
    "<!-- If we choose $\\mathbf{\\tilde{q}}_1= \\mathbf{a}_1$, then the orthogonal component of projection of $\\mathbf{a}_2$ onto $\\mathbf{\\tilde{q}}_1$ is $\\mathbf{\\tilde{q}}_2$.\n",
    "\n",
    "\n",
    "Define the projecttion of vector $\\mathbf{a}_2$ on the vector $\\mathbf{\\tilde{q}}_1$ as $\\text{Proj}_{\\mathbf{\\tilde{q}}_1}\\mathbf{a}_2 = \\alpha \\mathbf{a}_1$, \n",
    "\n",
    " then $(\\mathbf{a}_2 - \\alpha \\mathbf{a}_1)\\cdot \\mathbf{a}_1 = 0$, rearange for $\\alpha$\n",
    "\n",
    "$$\n",
    "\\alpha = \\frac{\\mathbf{a}_2^T\\mathbf{a}_1}{\\mathbf{a}_1^T\\mathbf{a}_1}\n",
    "$$\n",
    "\n",
    "According to definition above\n",
    "\n",
    "$$\n",
    "\\text{Proj}_{\\mathbf{\\tilde{q}}_1}\\mathbf{a}_2 = \\alpha \\mathbf{a}_1 = \\frac{\\mathbf{a}_2^T\\mathbf{a}_1}{\\mathbf{a}_1^T\\mathbf{a}_1}\\mathbf{a}_1\n",
    "$$\n",
    "\n",
    "The orthogonal component, $\\mathbf{\\tilde{q}}_2$ is \n",
    "\n",
    "$$\n",
    "\\mathbf{a}_2- \\text{Proj}_{\\mathbf{\\tilde{q}}_1}\\mathbf{a}_2 =\\mathbf{a}_2 - \\frac{\\mathbf{a}_2^T\\mathbf{a}_1}{\\mathbf{a}_1^T\\mathbf{a}_1}\\mathbf{a}_1\n",
    "$$ -->"
   ]
  },
  {
   "cell_type": "markdown",
   "metadata": {},
   "source": [
    "We first apply the Gram-Schmidt line by line to the example above. Please refer to the figure of Gram-Schmidt algorithm in our lecture note."
   ]
  },
  {
   "cell_type": "code",
   "execution_count": null,
   "metadata": {},
   "outputs": [],
   "source": [
    "\n",
    "# define norm \n",
    "def norm(v):\n",
    "    \"\"\"\n",
    "        Compute the 2-norm of given vector.\n",
    "        Assume we use Frobenious norm (Euclidean norm)\n",
    "        in: v - a batch of vector of shape [N, D] \n",
    "        out: a batch of computed 2-norm of shape [N, 1]\n",
    "    \"\"\"\n",
    "    ############################### TODO ###################################\n",
    "    N = len(v)\n",
    "    squared = np.power(v, 2)\n",
    "    sum_squared = np.sum(squared, axis = 1)\n",
    "    root_squared = np.sqrt(sum_squared)\n",
    "    return root_squared.reshape(N, 1)"
   ]
  },
  {
   "cell_type": "code",
   "execution_count": null,
   "metadata": {},
   "outputs": [],
   "source": [
    "# our vectors that span the 3D space.\n",
    "a1 = np.array([3, 6, 2])\n",
    "a2 = np.array([1, 2, 4])\n",
    "a3 = np.array([2, -2, 1])\n",
    "\n",
    "# set the a1 as the q_tilde_1\n",
    "q_tilde1 = a1\n",
    "\n",
    "# normalize q_1\n",
    "q1 = a1 / norm([a1])[0][0]\n",
    "\n",
    "# yield q_tilde2 that is orthogonal to q_1\n",
    "q_tilde2 = a2 - (a2 @ q1) * q1\n",
    "\n",
    "# normalize q_2\n",
    "q2 = q_tilde2 / norm([q_tilde2])[0][0]\n",
    "\n",
    "# yield q_tilde3 that is orthogonal to q_1 and q_2\n",
    "q_tilde3 = q_tilde3 = a3 - (a3 @ q1) * q1 - (a3 @ q2) * q2\n",
    "\n",
    "# normalize q_3\n",
    "q3 = q_tilde3 / norm([q_tilde3])[0][0]"
   ]
  },
  {
   "cell_type": "markdown",
   "metadata": {},
   "source": [
    "Now, let's see if the orthogonalization worked."
   ]
  },
  {
   "cell_type": "code",
   "execution_count": null,
   "metadata": {},
   "outputs": [],
   "source": [
    "plt.clf()\n",
    "######################## Subspace W ##############################\n",
    "\n",
    "s = np.linspace(-1, 1, 10)\n",
    "t = np.linspace(-1, 1, 10)\n",
    "S, T = np.meshgrid(s, t)\n",
    "\n",
    "a1, q_tilde1 = np.array([3, 6, 2]), np.array([3, 6, 2])\n",
    "a2 = np.array([1, 2, 4])\n",
    "a3 = np.array([2, -2, 1])\n",
    "\n",
    "X = a1[0] * S + a2[0] * T\n",
    "Y = a1[1] * S + a2[1] * T\n",
    "Z = a1[2] * S + a2[2] * T\n",
    "\n",
    "fig = plt.figure(figsize = (7, 7))\n",
    "ax = fig.add_subplot(projection='3d')\n",
    "ax.plot_wireframe(X, Y, Z, linewidth = 1.5, alpha = .3)\n",
    "\n",
    "############################# x1, x2, v2, alpha*v1 ##############################\n",
    "\n",
    "vec = np.array([[0, 0, 0, a1[0], a1[1], a1[2]]])\n",
    "X, Y, Z, U, V, W = zip(*vec)\n",
    "ax.quiver(X, Y, Z, U, V, W, length=1, normalize=False, color = 'red', alpha = .6, arrow_length_ratio = .08, pivot = 'tail',\n",
    "          linestyles = 'dashed',linewidths = 1)\n",
    "\n",
    "vec = np.array([[0, 0, 0, a2[0], a2[1], a2[2]]])\n",
    "X, Y, Z, U, V, W = zip(*vec)\n",
    "ax.quiver(X, Y, Z, U, V, W, length=1, normalize=False, color = 'blue', alpha = .6, arrow_length_ratio = .08, pivot = 'tail',\n",
    "          linestyles = 'dashed',linewidths = 1)\n",
    "\n",
    "vec = np.array([[0, 0, 0, a3[0], a3[1], a3[2]]])\n",
    "X, Y, Z, U, V, W = zip(*vec)\n",
    "ax.quiver(X, Y, Z, U, V, W, length=1, normalize=False, color = 'green', alpha = .6, arrow_length_ratio = .08, pivot = 'tail',\n",
    "          linestyles = 'dashed',linewidths = 1)\n",
    "\n",
    "vec = np.array([[0, 0, 0, q1[0], q1[1], q1[2]]])\n",
    "X, Y, Z, U, V, W = zip(*vec)\n",
    "ax.quiver(X, Y, Z, U, V, W, length=1, normalize=False, color = 'black', alpha = 1.0, arrow_length_ratio = .08, pivot = 'tail',\n",
    "          linestyles = 'solid',linewidths = 3)\n",
    "\n",
    "vec = np.array([[0, 0, 0, q_tilde2[0], q_tilde2[1], q_tilde2[2]]])\n",
    "X, Y, Z, U, V, W = zip(*vec)\n",
    "ax.quiver(X, Y, Z, U, V, W, length=1, normalize=False, color = 'black', alpha = 1.0, arrow_length_ratio = .08, pivot = 'tail',\n",
    "          linestyles = 'dashed',linewidths = 1)\n",
    "\n",
    "vec = np.array([[0, 0, 0, q2[0], q2[1], q2[2]]])\n",
    "X, Y, Z, U, V, W = zip(*vec)\n",
    "ax.quiver(X, Y, Z, U, V, W, length=1, normalize=False, color = 'black', alpha = 1.0, arrow_length_ratio = .08, pivot = 'tail',\n",
    "          linestyles = 'dashed',linewidths = 3)\n",
    "\n",
    "\n",
    "vec = np.array([[0, 0, 0, q_tilde3[0], q_tilde3[1], q_tilde3[2]]])\n",
    "X, Y, Z, U, V, W = zip(*vec)\n",
    "ax.quiver(X, Y, Z, U, V, W, length=1, normalize=False, color = 'gray', alpha = 0.3, arrow_length_ratio = .08, pivot = 'tail',\n",
    "          linestyles = 'dashed',linewidths = 1)\n",
    "\n",
    "vec = np.array([[0, 0, 0, q3[0], q3[1], q3[2]]])\n",
    "X, Y, Z, U, V, W = zip(*vec)\n",
    "ax.quiver(X, Y, Z, U, V, W, length=1, normalize=False, color = 'black', alpha = 1.0, arrow_length_ratio = .08, pivot = 'tail',\n",
    "          linestyles = 'solid',linewidths = 3)\n",
    "\n",
    "\n",
    "ax.text(a1[0] * 1.1, a1[1] * 1.1, a1[2] * 1.1, '$\\mathbf{a}_1 = \\mathbf{\\~{q}}_1 $', size = 10)\n",
    "ax.text(a2[0] * 1.1, a2[1] * 1.1, a2[2] * 1.1, '$\\mathbf{a}_2$', size = 10)\n",
    "ax.text(a3[0] * 1.1, a3[1] * 1.1, a3[2] * 1.1, '$\\mathbf{a}_3$', size = 10)\n",
    "ax.text(q1[0] * 1.1, q1[1] * 1.1, q1[2] * 1.1, '$\\mathbf{q}_1$', size = 15)\n",
    "\n",
    "ax.text(q_tilde2[0] * 1.1, q_tilde2[1] * 1.1, q_tilde2[2] * 1.1, '$\\mathbf{\\~{q}}_2$', size = 10)\n",
    "ax.text(q2[0] * 1.1, q2[1] * 1.1, q2[2] * 1.1, '$\\mathbf{q}_2$', size = 15)\n",
    "\n",
    "ax.text(q_tilde3[0] * 1.1, q_tilde3[1] * 1.1, q_tilde3[2] * 1.1, '$\\mathbf{\\~{q}}_3$', size = 10)\n",
    "ax.text(q3[0] * 1.1, q3[1] * 1.1, q3[2] * 1.1, '$\\mathbf{q}_3$', size = 15)\n",
    "\n",
    "\n",
    "ax.set_xlabel('x-axis')\n",
    "ax.set_ylabel('y-axis')\n",
    "ax.set_zlabel('z-axis')\n",
    "\n",
    "plt.show()"
   ]
  },
  {
   "cell_type": "markdown",
   "metadata": {},
   "source": [
    "Check if $\\mathbf{q}_i,i=1,2,3$ are orthogonal to each other."
   ]
  },
  {
   "cell_type": "code",
   "execution_count": null,
   "metadata": {},
   "outputs": [],
   "source": [
    "print(np.allclose(q1 @ q2, 0.))\n",
    "print(np.allclose(q3 @ q2, 0.))\n",
    "print(np.allclose(q3 @ q1, 0.))"
   ]
  },
  {
   "cell_type": "markdown",
   "metadata": {},
   "source": [
    "Now let's construct our generalized form of the algorithm. The pseudo-code is provided in the pp.97 of our textbook."
   ]
  },
  {
   "cell_type": "code",
   "execution_count": null,
   "metadata": {},
   "outputs": [],
   "source": [
    "def gram_schmidt(a):\n",
    "    \"\"\"\n",
    "    in: a - length k list of n-dim np.arrays.\n",
    "    out: q - length k list of n-dim orthonormal np.arrays. \n",
    "    \"\"\"\n",
    "    ############################### TODO ###################################\n",
    "    a = a.astype('float64')\n",
    "    k, n = np.shape(a)\n",
    "    \n",
    "    q = a\n",
    "    q = q.astype('float64')\n",
    "\n",
    "    zero_vector = np.zeros(n)\n",
    "\n",
    "    for i in range(k):\n",
    "        # orthogonalization\n",
    "        q_tilde_i = a[i]\n",
    "        for j in range(i):\n",
    "            q_tilde_i -= (q[j] @ a[i]) * q[j]\n",
    "\n",
    "        # test for linear dependence\n",
    "        if np.array_equal(q_tilde_i, zero_vector):\n",
    "            break\n",
    "\n",
    "        # Normalization\n",
    "        q[i] = q_tilde_i / norm([q_tilde_i])[0][0]\n",
    "\n",
    "    return q"
   ]
  },
  {
   "cell_type": "markdown",
   "metadata": {},
   "source": [
    "Now let's test the algorithm!"
   ]
  },
  {
   "cell_type": "code",
   "execution_count": null,
   "metadata": {},
   "outputs": [],
   "source": [
    "a = np.vstack([a1, a2, a3])\n",
    "q = gram_schmidt(a)\n",
    "#Test orthonormality\n",
    "print('Norm of q[0] :', (sum(q[0]**2))**0.5)\n",
    "print('Inner product of q[0] and q[1] :', q[0] @ q[1])\n",
    "print('Inner product of q[0] and q[2] :', q[0] @ q[2])\n",
    "print('Norm of q[1] :', (sum(q[1]**2))**0.5)\n",
    "print('Inner product of q[1] and q[2] :', q[1] @ q[2])\n",
    "print('Norm of q[2] :', (sum(q[2]**2))**0.5)"
   ]
  },
  {
   "cell_type": "markdown",
   "metadata": {},
   "source": [
    "### <b>Problem 2. QR factorization based on Gram-Schmidt algorithm\n",
    "\n",
    "##### Now we implement the QR factorization method based on the Gram-Schmidt algorithm we implemented above.\n"
   ]
  },
  {
   "cell_type": "code",
   "execution_count": null,
   "metadata": {},
   "outputs": [],
   "source": [
    "def QR_factorization(A):\n",
    "    \"\"\"\n",
    "    in: A - numpy array whose k columns are linearly independent.\n",
    "    out: Q, R - the result of QR factorization\n",
    "    \"\"\"\n",
    "    ############################### TODO ###################################\n",
    "    # You must use Gram-Schmidt algorithm you implemented in problem 1. \n",
    "\n",
    "    k = len(A[0])\n",
    "    q = gram_schmidt(A.T)\n",
    "\n",
    "    R = np.zeros((k, k))\n",
    "\n",
    "    for i in range(k):\n",
    "        for j in range(0, i + 1):\n",
    "            R[i][j] = q[j] @ (A.T)[i]\n",
    "    \n",
    "    return q.T, R.T"
   ]
  },
  {
   "cell_type": "markdown",
   "metadata": {},
   "source": [
    "Test your implementation of QR factorization."
   ]
  },
  {
   "cell_type": "code",
   "execution_count": null,
   "metadata": {},
   "outputs": [],
   "source": [
    "# compare with numpy's native qr factorization\n",
    "A = np.random.normal(size = (6,4))\n",
    "\n",
    "Q, R = np.linalg.qr(A)\n",
    "\n",
    "# check if A = QR\n",
    "print(np.allclose(Q@R, A))\n",
    "\n",
    "# check if Q.T Q = I\n",
    "print(np.allclose(Q.T @ Q, np.eye(4)))"
   ]
  },
  {
   "cell_type": "code",
   "execution_count": null,
   "metadata": {},
   "outputs": [],
   "source": [
    "# check your implementation\n",
    "\n",
    "# q - 6 X 4 matrix ; r - 4 X 4 matrix\n",
    "q, r = QR_factorization(A)\n",
    "\n",
    "# check if A = qr\n",
    "print(np.allclose(q@r, A))\n",
    "# check if q^T = q^-1 \n",
    "\n",
    "print(np.allclose(q.T @ q , np.eye(4)))"
   ]
  },
  {
   "cell_type": "markdown",
   "metadata": {},
   "source": [
    "### <b> Problem 3. Matrix pseudo-inverse via QR factorization\n",
    "\n",
    "##### Now we compute the inverse of a matrix and the pseudo-inverse for the non-square matrix using QR factorization. Please refer to Chapter 11.5 of our textbook.\n",
    "\n",
    "$A^{\\dagger}=R^{-1}Q^{\\top}$\n"
   ]
  },
  {
   "cell_type": "code",
   "execution_count": null,
   "metadata": {},
   "outputs": [],
   "source": [
    "# define the back-substitution function.\n",
    "# please refer to pp.207 of our textbook.\n",
    "def back_subst(R, b_tilde):\n",
    "    ############################### TODO ###################################\n",
    "\n",
    "    \n",
    "\n",
    "# define a solver that uses back_substituion.\n",
    "def solve_via_backsub(A, b):\n",
    "    ############################### TODO ###################################\n",
    "    # use the function QR_factorization and back_subst you implemented above.\n",
    "\n",
    "    \n",
    "\n"
   ]
  },
  {
   "cell_type": "markdown",
   "metadata": {},
   "source": [
    "Now we compute inverse via QR factorization and back substituion. Please refer to pp.209 of our textbook."
   ]
  },
  {
   "cell_type": "code",
   "execution_count": null,
   "metadata": {},
   "outputs": [],
   "source": [
    "# define a square matrix.\n",
    "A = np.random.normal(size= (3, 3))\n",
    "\n",
    "# QR factorize\n",
    "Q, R = QR_factorization(A)\n",
    "\n",
    "# iterate over the columns of Q.T.\n",
    "n = Q.T.shape[1]\n",
    "results = []\n",
    "for i in range(n):\n",
    "    result = #### TODO ####\n",
    "    results.append(result)\n",
    "# merge as a matrix by concatenating over columns\n",
    "A_inv_via_QR = np.column_stack(results)\n",
    "\n",
    "# compare with numpy's native inverse method.\n",
    "A_inv = np.linalg.inv(A)\n",
    "print(np.allclose(A_inv_via_QR, A_inv))"
   ]
  },
  {
   "cell_type": "markdown",
   "metadata": {},
   "source": [
    "Now we test for the non-square matrix to implement the pseudo-inverse. Please refer to pp. 216 of our textbook."
   ]
  },
  {
   "cell_type": "code",
   "execution_count": null,
   "metadata": {},
   "outputs": [],
   "source": [
    "A = np.array(\n",
    "    [\n",
    "        [-3, -4],\n",
    "        [4, 6],\n",
    "        [1, 1]\n",
    "    ])\n",
    "\n",
    "\n",
    "Q, R = QR_factorization(A)\n",
    "\n",
    "print(Q.shape)\n",
    "print(Q.T)\n",
    "\n",
    "print(R.shape)\n",
    "\n",
    "# iterate over the columns of Q.T.\n",
    "n = Q.T.shape[1]\n",
    "print(n)\n",
    "results = []\n",
    "for i in range(n):\n",
    "    result = #### TODO ####\n",
    "    results.append(result)\n",
    "# merge as a matrix by concatenating over columns\n",
    "A_pinv_via_QR = np.column_stack(results)\n",
    "\n",
    "print(A_pinv_via_QR)\n",
    "\n",
    "# compare with numpy's native inverse method.\n",
    "A_pinv = np.linalg.pinv(A)\n",
    "print(np.allclose(A_pinv_via_QR, A_pinv))\n",
    "\n"
   ]
  }
 ],
 "metadata": {
  "kernelspec": {
   "display_name": "Python 3.9.12 ('base')",
   "language": "python",
   "name": "python3"
  },
  "language_info": {
   "codemirror_mode": {
    "name": "ipython",
    "version": 3
   },
   "file_extension": ".py",
   "mimetype": "text/x-python",
   "name": "python",
   "nbconvert_exporter": "python",
   "pygments_lexer": "ipython3",
   "version": "3.9.12"
  },
  "orig_nbformat": 2,
  "vscode": {
   "interpreter": {
    "hash": "1655f93ab01fdcf0ebd1c5a17cad989f7d4204cf9cfdc3dd0c06e6eb43d07f9d"
   }
  }
 },
 "nbformat": 4,
 "nbformat_minor": 2
}
