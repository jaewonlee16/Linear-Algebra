{
  "cells": [
    {
      "cell_type": "markdown",
      "metadata": {
        "id": "view-in-github",
        "colab_type": "text"
      },
      "source": [
        "<a href=\"https://colab.research.google.com/github/jaewonlee16/Linear-Algebra/blob/master/hw05.ipynb\" target=\"_parent\"><img src=\"https://colab.research.google.com/assets/colab-badge.svg\" alt=\"Open In Colab\"/></a>"
      ]
    },
    {
      "cell_type": "markdown",
      "metadata": {
        "id": "EADClEx37Ydg"
      },
      "source": [
        "# Linear Algebra for Electrical Systems HW 5\n",
        "### <i> Least-squares polynomial fitting -- DUE 12/15"
      ]
    },
    {
      "cell_type": "markdown",
      "metadata": {
        "id": "V0d9eYAw7Ydl"
      },
      "source": [
        "#####  - Professor Young Min Kim\n",
        "#####  - TAs: Junho Lee, Hojun Jang\n",
        "#####  - TA email: j12040208@snu.ac.kr\n",
        "*** "
      ]
    },
    {
      "cell_type": "markdown",
      "metadata": {
        "id": "9WsF_I4N7Ydm"
      },
      "source": [
        "- Please fill out all `Problem #K. fill out here.` annotated parts.\n",
        "- You should **NOT** use methods under `np.linalg` API. Please use generic `numpy` methods."
      ]
    },
    {
      "cell_type": "markdown",
      "metadata": {
        "id": "LIgNX8O47Ydn"
      },
      "source": [
        "### <b> Problem 1 - Constructing a simple least-squares solver.\n",
        "##### We follow the pseudo code in the pp. 232 of our textbook, to solve least squares via QR factorization.\n",
        "##### Please read the comments carefully and fill in the TODO marks."
      ]
    },
    {
      "cell_type": "markdown",
      "metadata": {
        "id": "mlQdRKmI7Ydo"
      },
      "source": [
        "First, let's prepare some ingredients we have implemented in HW3."
      ]
    },
    {
      "cell_type": "code",
      "execution_count": 82,
      "metadata": {
        "tags": [],
        "id": "vm4xTNJn7Ydp"
      },
      "outputs": [],
      "source": [
        "import matplotlib.pyplot as plt\n",
        "import matplotlib as mpl\n",
        "%matplotlib inline\n",
        "import numpy as np"
      ]
    },
    {
      "cell_type": "code",
      "execution_count": 83,
      "metadata": {
        "id": "SVTh4lnF7Ydq"
      },
      "outputs": [],
      "source": [
        "def norm(v):\n",
        "    \"\"\"\n",
        "        Compute the 2-norm of given vector.\n",
        "        Input:\n",
        "            a batch of vector of shape [N, D] \n",
        "        Return:\n",
        "            a batch of computed 2-norm of shape [N, D]\n",
        "    \"\"\"\n",
        "    # Assume we use Frobenious norm (Euclidean norm)\n",
        "    return np.sqrt(np.sum(v**2, axis=-1))\n",
        "\n",
        "\n",
        "def gram_schmidt(a):\n",
        "    \"\"\"\n",
        "    in: a - length k list of n-dim np.arrays.\n",
        "    out: q - length k list of n-dim orthonormal np.arrays. \n",
        "    \"\"\"\n",
        "    q = []\n",
        "    # orthogonalization\n",
        "    for i in range(len(a)): # for i = 1, ..., k\n",
        "        q_tilde = a[i]\n",
        "        for j in range(len(q)): # for each dimension of q_tilde\n",
        "            # recursively add dot(q)\n",
        "            q_tilde = q_tilde - (np.dot(q[j], a[i]))*q[j]\n",
        "        # Test for linear dependence. If \\tilde{q}_i = 0.\n",
        "        if np.sqrt(sum(q_tilde**2)) <= 1e-10:\n",
        "            print('Vectors are linearly dependent.')\n",
        "            print('GS algorithm terminates at iteration ', i+1)\n",
        "            return q\n",
        "        #Normalization\n",
        "        else:\n",
        "            q_tilde = q_tilde / norm(q_tilde)\n",
        "            q.append(q_tilde)\n",
        "    return q\n",
        "\n",
        "\n",
        "def QR_factorization(A):\n",
        "    \"\"\"\n",
        "    in: numpy array whose k columns are linearly independent.\n",
        "    \"\"\"\n",
        "    # we feed gram_schmidt() A.T since it orthonormalizes row vectors of the input array. \n",
        "    # Thus, we get transposed array whose rows are orthonormal. \n",
        "    Q_transpose = np.array(gram_schmidt(A.T))\n",
        "    R = Q_transpose @ A # since Q^T = Q^-1\n",
        "    Q = Q_transpose.T\n",
        "    return Q, R\n",
        "\n",
        "\n",
        "\n",
        "# define the back-substitution function.\n",
        "# please refer to pp.207 of our textbook.\n",
        "def back_subst(R, b_tilde):\n",
        "    n = R.shape[0]\n",
        "    x = np.zeros(n)\n",
        "    for i in reversed(range(n)): # iterate in reversed order: n, n-1, ..., 1.\n",
        "        x[i] = b_tilde[i]\n",
        "        for j in range(i+1, n):\n",
        "            x[i] = x[i] - R[i,j] * x[j]\n",
        "        x[i] = x[i]/R[i,i]\n",
        "    return x\n",
        "\n",
        "\n",
        "# define a solver the uses back_substituion.\n",
        "def solve_via_backsub(A, b):\n",
        "    # first to QR factorization\n",
        "    Q, R = QR_factorization(A)\n",
        "\n",
        "    # let b_tilde as Q^T b\n",
        "    b_tilde = Q.T @ b\n",
        "\n",
        "    # solve Rx=Q^Tb to get x.\n",
        "    x = back_subst(R, b_tilde)\n",
        "    return x"
      ]
    },
    {
      "cell_type": "markdown",
      "metadata": {
        "id": "gtf3vDWH7Yds"
      },
      "source": [
        "<!-- If we choose $\\mathbf{\\tilde{q}}_1= \\mathbf{a}_1$, then the orthogonal component of projection of $\\mathbf{a}_2$ onto $\\mathbf{\\tilde{q}}_1$ is $\\mathbf{\\tilde{q}}_2$.\n",
        "\n",
        "\n",
        "Define the projecttion of vector $\\mathbf{a}_2$ on the vector $\\mathbf{\\tilde{q}}_1$ as $\\text{Proj}_{\\mathbf{\\tilde{q}}_1}\\mathbf{a}_2 = \\alpha \\mathbf{a}_1$, \n",
        "\n",
        " then $(\\mathbf{a}_2 - \\alpha \\mathbf{a}_1)\\cdot \\mathbf{a}_1 = 0$, rearange for $\\alpha$\n",
        "\n",
        "$$\n",
        "\\alpha = \\frac{\\mathbf{a}_2^T\\mathbf{a}_1}{\\mathbf{a}_1^T\\mathbf{a}_1}\n",
        "$$\n",
        "\n",
        "According to definition above\n",
        "\n",
        "$$\n",
        "\\text{Proj}_{\\mathbf{\\tilde{q}}_1}\\mathbf{a}_2 = \\alpha \\mathbf{a}_1 = \\frac{\\mathbf{a}_2^T\\mathbf{a}_1}{\\mathbf{a}_1^T\\mathbf{a}_1}\\mathbf{a}_1\n",
        "$$\n",
        "\n",
        "The orthogonal component, $\\mathbf{\\tilde{q}}_2$ is \n",
        "\n",
        "$$\n",
        "\\mathbf{a}_2- \\text{Proj}_{\\mathbf{\\tilde{q}}_1}\\mathbf{a}_2 =\\mathbf{a}_2 - \\frac{\\mathbf{a}_2^T\\mathbf{a}_1}{\\mathbf{a}_1^T\\mathbf{a}_1}\\mathbf{a}_1\n",
        "$$ -->"
      ]
    },
    {
      "cell_type": "markdown",
      "metadata": {
        "id": "LmcYBtgU7Ydt"
      },
      "source": [
        "##### First solve toy example with numpy's innate methods. "
      ]
    },
    {
      "cell_type": "code",
      "execution_count": 84,
      "metadata": {
        "id": "C87mmxN67Ydt"
      },
      "outputs": [],
      "source": [
        "# define a matrix having linearly independent columns.\n",
        "A = np.array([[3, 0], [-1, 1], [0, 3]])\n",
        "b = np.array([1, 0, -1])"
      ]
    },
    {
      "cell_type": "markdown",
      "metadata": {
        "id": "ihwwY-PN7Ydu"
      },
      "source": [
        "In Eq.(12.5) and Eq.(12.6)of our textbook, we find that\n",
        "\n",
        "$\\mathbf{\\hat{x}}=(A^{\\top}A)^{-1}A^{\\top}\\mathbf{b}=A^{\\dagger}\\mathbf{b}$\n",
        "\n",
        "yields the solution for least squares problem.\n"
      ]
    },
    {
      "cell_type": "code",
      "execution_count": 85,
      "metadata": {
        "colab": {
          "base_uri": "https://localhost:8080/"
        },
        "id": "DNsMWY7h7Ydu",
        "outputId": "bb4e272a-4bb0-4f9e-eae1-ea3c1c7da1bf"
      },
      "outputs": [
        {
          "output_type": "stream",
          "name": "stdout",
          "text": [
            "[ 0.27272727 -0.27272727]\n",
            "[ 0.27272727 -0.27272727]\n"
          ]
        },
        {
          "output_type": "execute_result",
          "data": {
            "text/plain": [
              "True"
            ]
          },
          "metadata": {},
          "execution_count": 85
        }
      ],
      "source": [
        "# solve using the second term. can use np.linalg.inv for this line\n",
        "sol1 = np.linalg.inv(A.T @ A) @ A.T @ b \n",
        "\n",
        "print(sol1)\n",
        "\n",
        "# solve using the pinv solver of numpy. can use np.linalg.pinv for this line\n",
        "sol2 = np.linalg.pinv(A) @ b \n",
        "print(sol2)\n",
        "\n",
        "x_hat = sol2\n",
        "# check of Eq.(12.4) holds.\n",
        "np.allclose(A.T @ A @ x_hat, A.T @ b)"
      ]
    },
    {
      "cell_type": "markdown",
      "metadata": {
        "id": "B3zA5kiT7Ydu"
      },
      "source": [
        "##### Now we solve the approximate solution of least squares problem via QR factorization, referring to Algorithm 12.1."
      ]
    },
    {
      "cell_type": "code",
      "execution_count": 86,
      "metadata": {
        "colab": {
          "base_uri": "https://localhost:8080/"
        },
        "id": "dSOsJW2f7Ydv",
        "outputId": "6d335241-0ea3-4fe8-bf5b-053665d61e1e"
      },
      "outputs": [
        {
          "output_type": "stream",
          "name": "stdout",
          "text": [
            "[ 0.13297574 -0.11327674 -0.04699581  0.08428185  0.05184118 -0.03785396\n",
            " -0.23098697 -0.04747088  0.09052757 -0.00424866 -0.04904034  0.06889595\n",
            "  0.19057105 -0.08178894  0.06091138 -0.03780935 -0.12210307  0.00993712\n",
            "  0.12737147  0.02319973]\n",
            "True\n",
            "True\n"
          ]
        }
      ],
      "source": [
        "A = np.random.normal(size = (100, 20))\n",
        "b = np.random.normal(size = 100)\n",
        "\n",
        "# solve via our custom solver.\n",
        "x1 = solve_via_backsub(A, b)\n",
        "\n",
        "x2 = np.linalg.inv(A.T @ A) @ (A.T @ b)\n",
        "x3 = np.linalg.pinv(A) @ b\n",
        "\n",
        "print(x1)\n",
        "print(np.allclose(x1, x2))\n",
        "print(np.allclose(x1, x3))\n"
      ]
    },
    {
      "cell_type": "markdown",
      "metadata": {
        "id": "qSq15AhA7Ydv"
      },
      "source": [
        "##### Now we solve the lamp illumination problem.\n",
        "- There are ***n*** lamps in 3D space.\n",
        "- We have to brighten a flat grid surface (z = 0).\n",
        "- We have to shine each grid as equal as possible."
      ]
    },
    {
      "cell_type": "code",
      "execution_count": 99,
      "metadata": {
        "id": "9CuA2lbg7Ydv",
        "colab": {
          "base_uri": "https://localhost:8080/"
        },
        "outputId": "7ecdf8ee-bb57-4b31-c4e8-e24bd3be242d"
      },
      "outputs": [
        {
          "output_type": "stream",
          "name": "stdout",
          "text": [
            "(625, 10)\n",
            "[1.46211018 0.78797433 2.96641047 0.74358042 0.08317333 0.21263945\n",
            " 0.21218408 2.05114815 0.90760315 1.47222464]\n",
            "0.14039048134276055\n"
          ]
        }
      ],
      "source": [
        "# number of lamps\n",
        "n = 10\n",
        "# x, y positions of lamps and height above floor \n",
        "lamps = np.array([\n",
        "        [4.1, 20.4, 4], [14.1, 21.3, 3.5], [22.6, 17.1, 6],\n",
        "        [5.5, 12.3, 4.0], [12.2, 9.7, 4.0], [15.3, 13.8, 6],\n",
        "        [21.3, 10.5, 5.5], [3.9 ,3.3, 5.0], [13.1, 4.3, 5.0],\n",
        "        [20.3, 4.2, 4.5]\n",
        "    ])\n",
        "N = 25 # grid size\n",
        "m = N * N # number of pixels\n",
        "# construct m x 2 matrix with coordinates of pixel centers\n",
        "\n",
        "# print(np.outer(np.arange(0.5, N, 1),\n",
        "#                             np.ones(N)).shape)\n",
        "\n",
        "\n",
        "# assume we have 25 X 25 gridmap, where (0, 0) is the coordinate of top left corner \n",
        "# and (25, 25) is the coordinate of bottom right corner.\n",
        "# the center of each grid should have tho coordinate like\n",
        "# [(0.5, 0.5), (1.5, 0.5), (2.5, 0.5) ... (24.5, 0.5)]\n",
        "# [(0.5, 1.5), (1.5, 1.5), (2.5, 1.5)  ...(24.5, 1.5)]\n",
        "#                          ...\n",
        "# [(0.5, 24.5),            ...           (24.5, 24.5)]\n",
        "\n",
        "# define [625, 2] shaped array containing pixel coordinates.\n",
        "\n",
        "# first create equally spaced values in [0.5, 24.5], into 25 values.\n",
        "spaces = np.linspace(0.5, 24.5, 25)\n",
        "\n",
        "# now we create value mesh for each horizontal (x) and vertical (y) axis\n",
        "mesh_x, mesh_y = np.meshgrid(spaces, spaces)\n",
        "\n",
        "# create a mesh that each node containing the center coordinate and the zero\n",
        "mesh = np.stack((mesh_x, mesh_y, np.zeros((N, N))), axis=-1)\n",
        "\n",
        "# reshape for the computation convenience\n",
        "mesh = mesh.reshape(-1, 3)\n",
        "\n",
        "\n",
        "# The m x n matrix A maps lamp powers to pixel intensities. \n",
        "# A[i,j] is inversely proportional to the squared distance of\n",
        "# lamp j to pixel i.\n",
        "A = np.zeros((m, n)) # intensity matrix for m grids and n lamps.T\n",
        "\n",
        "for i in range(m): # iterate over m grids.\n",
        "    for j in range(n): # iterate over n lamps.\n",
        "        # intensity ~ inverse of squared distance\n",
        "        A[i, j] = norm(mesh[i] - lamps[j])**(-2)\n",
        "print(A.shape)\n",
        "\n",
        "A = (m/np.sum(A)) * A # scale elements of A\n",
        "\n",
        "# solve least squares equation.\n",
        "x = solve_via_backsub(A, np.ones(m))\n",
        "print(x)\n",
        "\n",
        "# compute rms error.\n",
        "rms_ls = (sum((A @ x - 1)**2)/m)**0.5\n",
        "print(rms_ls)\n"
      ]
    },
    {
      "cell_type": "markdown",
      "metadata": {
        "id": "X9XmDxjs7Ydw"
      },
      "source": [
        "Let's visualize the histogram for intensity for each pixel."
      ]
    },
    {
      "cell_type": "code",
      "execution_count": 88,
      "metadata": {
        "id": "KYb6Tumh7Ydw",
        "colab": {
          "base_uri": "https://localhost:8080/",
          "height": 265
        },
        "outputId": "17187df7-0369-44a8-e998-049b38921330"
      },
      "outputs": [
        {
          "output_type": "display_data",
          "data": {
            "text/plain": [
              "<Figure size 432x288 with 1 Axes>"
            ],
            "image/png": "[encoded data removed]"
          },
          "metadata": {
            "needs_background": "light"
          }
        }
      ],
      "source": [
        "plt.hist(A @ x, bins = 25)\n",
        "plt.show()"
      ]
    },
    {
      "cell_type": "markdown",
      "metadata": {
        "id": "KhalkhBW7Ydw"
      },
      "source": [
        "### <b> Problem 2. Least-squares line fitting.\n",
        "##### Now we will solve line fitting problem via least-squares."
      ]
    },
    {
      "cell_type": "code",
      "execution_count": 89,
      "metadata": {
        "id": "Mq9QFvg47Ydw",
        "colab": {
          "base_uri": "https://localhost:8080/",
          "height": 279
        },
        "outputId": "31ef8a83-2f0e-4cf7-d09d-3b4bdc606fa3"
      },
      "outputs": [
        {
          "output_type": "display_data",
          "data": {
            "text/plain": [
              "<Figure size 432x288 with 1 Axes>"
            ],
            "image/png": "[encoded data removed]"
          },
          "metadata": {
            "needs_background": "light"
          }
        }
      ],
      "source": [
        "# define our points\n",
        "x = np.linspace(0, 1, num=10)\n",
        "\n",
        "# our line is y = 2x + 1\n",
        "y_clean = 2 * x + 1\n",
        "# add random noise\n",
        "y_noise = y_clean + np.random.randn(len(x)) / 2.\n",
        "\n",
        "plt.plot(x, y_clean, 'r.', markersize=10, label='clean_data')\n",
        "plt.plot(x, y_noise, 'b.', markersize=10, label='noisy data')\n",
        "plt.xlabel('x')\n",
        "plt.ylabel('y')\n",
        "plt.legend(loc='upper left')    \n",
        "plt.show()"
      ]
    },
    {
      "cell_type": "markdown",
      "metadata": {
        "id": "I6uz4W277Ydw"
      },
      "source": [
        "Now we fit our `y_clean` and `y_noise` to a line `y = ax + b` via least-squares."
      ]
    },
    {
      "cell_type": "code",
      "execution_count": 90,
      "metadata": {
        "id": "wBWLPe_N7Ydw",
        "colab": {
          "base_uri": "https://localhost:8080/"
        },
        "outputId": "6e01a4b6-4ed8-4f8e-91f3-c22bae50670b"
      },
      "outputs": [
        {
          "output_type": "stream",
          "name": "stdout",
          "text": [
            "[2. 1.]\n",
            "[1.79619476 1.0848005 ]\n"
          ]
        }
      ],
      "source": [
        "# Define matrix for solving least squares.\n",
        "# We need to solve the equations written below.\n",
        "# y1 = ax1 + b, y2 = ax2 + b, ..., y10 = ax10 + b\n",
        "A = np.stack((np.ones(10),x), axis = -1)\n",
        "\n",
        "\n",
        "# Use solve_via_backsub to get a and b values.\n",
        "# The result should be in a given order [a, b].\n",
        "clean_fit = np.flip(solve_via_backsub(A, y_clean))\n",
        "noise_fit = np.flip(solve_via_backsub(A, y_noise))\n",
        "\n",
        "print(clean_fit)\n",
        "print(noise_fit)"
      ]
    },
    {
      "cell_type": "markdown",
      "metadata": {
        "id": "tAN5xV7Q7Ydx"
      },
      "source": [
        "Let's see if the fitting worked well."
      ]
    },
    {
      "cell_type": "code",
      "execution_count": 91,
      "metadata": {
        "id": "q8FTTavb7Ydx",
        "colab": {
          "base_uri": "https://localhost:8080/"
        },
        "outputId": "7fb8f2c0-e6bc-42da-e9a5-c5204d178d70"
      },
      "outputs": [
        {
          "output_type": "stream",
          "name": "stdout",
          "text": [
            "Error for clean data :  3.8459253727671276e-16\n",
            "Error for noisy data :  1.6848822141845023\n"
          ]
        }
      ],
      "source": [
        "clean_a = clean_fit[0]\n",
        "clean_b = clean_fit[1]\n",
        "noise_a = noise_fit[0]\n",
        "noise_b = noise_fit[1]\n",
        "\n",
        "y_clean_fit = clean_a * x + clean_b\n",
        "y_noise_fit = noise_a * x + noise_b\n",
        "\n",
        "# Error for fitting clean data --> should be zero\n",
        "print(\"Error for clean data : \", np.linalg.norm(y_clean_fit - y_clean))\n",
        "# Error for fitting noisy data\n",
        "print(\"Error for noisy data : \", np.linalg.norm(y_noise_fit - y_noise))"
      ]
    },
    {
      "cell_type": "code",
      "execution_count": 92,
      "metadata": {
        "id": "kxVGFhOo7Ydx",
        "colab": {
          "base_uri": "https://localhost:8080/",
          "height": 297
        },
        "outputId": "4664cc87-5245-4987-c46a-e01a21c8fe07"
      },
      "outputs": [
        {
          "output_type": "execute_result",
          "data": {
            "text/plain": [
              "<matplotlib.legend.Legend at 0x7fcf089b0ac0>"
            ]
          },
          "metadata": {},
          "execution_count": 92
        },
        {
          "output_type": "display_data",
          "data": {
            "text/plain": [
              "<Figure size 432x288 with 1 Axes>"
            ],
            "image/png": "[encoded data removed]"
          },
          "metadata": {
            "needs_background": "light"
          }
        }
      ],
      "source": [
        "# Let's see the result of fitting noisy data.\n",
        "plt.plot(x, y_noise, 'b.', markersize=10, label='noisy data')\n",
        "plt.plot(x, y_clean, 'r--', label=r'y = $2x + 1$')\n",
        "plt.plot(x, y_noise_fit, 'g--', label=r'y_fit = $%.2fx + %.2f$' % (noise_a, noise_b))\n",
        "plt.xlabel('x')\n",
        "plt.ylabel('y')\n",
        "plt.legend(loc='upper left')"
      ]
    },
    {
      "cell_type": "markdown",
      "metadata": {
        "id": "beChBIq47Ydx"
      },
      "source": [
        "### <b> Problem 3. Least-squares polynomial fitting.\n",
        "##### Now we will solve polynomial fitting problem via least-squares."
      ]
    },
    {
      "cell_type": "code",
      "execution_count": 93,
      "metadata": {
        "id": "4zgC0rHe7Ydx",
        "colab": {
          "base_uri": "https://localhost:8080/",
          "height": 283
        },
        "outputId": "b29a2815-6187-4dca-cd3d-654974de8626"
      },
      "outputs": [
        {
          "output_type": "execute_result",
          "data": {
            "text/plain": [
              "<matplotlib.legend.Legend at 0x7fcf088fd700>"
            ]
          },
          "metadata": {},
          "execution_count": 93
        },
        {
          "output_type": "display_data",
          "data": {
            "text/plain": [
              "<Figure size 432x288 with 1 Axes>"
            ],
            "image/png": "[encoded data removed]"
          },
          "metadata": {
            "needs_background": "light"
          }
        }
      ],
      "source": [
        "# define our points\n",
        "x = np.linspace(0, 3, 30)\n",
        "\n",
        "# our line is y = 4x / (1 + x^2)\n",
        "y = 4 * x / (1 + x * x)\n",
        "\n",
        "plt.plot(x, y, 'r.', markersize=10, label=r'y = $\\frac{4x}{(1+x)^{2}}$')\n",
        "plt.legend(loc='lower right', prop={'size': 15})"
      ]
    },
    {
      "cell_type": "markdown",
      "metadata": {
        "id": "bcODAv3q7Ydy"
      },
      "source": [
        "First, let's fit with line `y = ax + b`."
      ]
    },
    {
      "cell_type": "code",
      "execution_count": 94,
      "metadata": {
        "id": "L7P8Kehn7Ydy",
        "colab": {
          "base_uri": "https://localhost:8080/",
          "height": 302
        },
        "outputId": "27a1bd5a-b585-456c-b8cc-ce23a156b057"
      },
      "outputs": [
        {
          "output_type": "stream",
          "name": "stdout",
          "text": [
            "[0.07843853 1.38498776]\n"
          ]
        },
        {
          "output_type": "execute_result",
          "data": {
            "text/plain": [
              "<matplotlib.legend.Legend at 0x7fcf089d1f70>"
            ]
          },
          "metadata": {},
          "execution_count": 94
        },
        {
          "output_type": "display_data",
          "data": {
            "text/plain": [
              "<Figure size 432x288 with 1 Axes>"
            ],
            "image/png": "[encoded data removed]"
          },
          "metadata": {
            "needs_background": "light"
          }
        }
      ],
      "source": [
        "# Define matrix for solving least squares.\n",
        "# We need to solve the equations written below.\n",
        "# y1 = ax1 + b, y2 = ax2 + b, ..., y10 = ax10 + b\n",
        "A = np.stack((np.ones(30),x), axis = -1)\n",
        "\n",
        "# Use solve_via_backsub to get a and b values.\n",
        "line_fit = np.flip(solve_via_backsub(A, y))\n",
        "\n",
        "print(line_fit)\n",
        "\n",
        "y_line_fit = line_fit[0] * x + line_fit[1]\n",
        "plt.plot(x, y, 'r.', markersize=10, label=r'$y = \\frac{4x}{(1+x)^{2}}$')\n",
        "plt.plot(x, y_line_fit, 'c--', label=r'$y_{1} = %.2fx + %.2f$' % (y_line_fit[0], y_line_fit[1]))\n",
        "plt.legend(loc='lower right')"
      ]
    },
    {
      "cell_type": "markdown",
      "metadata": {
        "id": "SQbcT1397Ydy"
      },
      "source": [
        "Next, let's fit the data to a second order polynomial `y = a2 x^2 + a1 x + a0`."
      ]
    },
    {
      "cell_type": "code",
      "execution_count": 95,
      "metadata": {
        "id": "lLI_2Q5f7Ydy",
        "colab": {
          "base_uri": "https://localhost:8080/",
          "height": 302
        },
        "outputId": "e2d71cbd-fe6e-4b0c-b9b6-e7c9c1c928a5"
      },
      "outputs": [
        {
          "output_type": "stream",
          "name": "stdout",
          "text": [
            "[-0.54042356  1.69970922  0.60230536]\n"
          ]
        },
        {
          "output_type": "execute_result",
          "data": {
            "text/plain": [
              "<matplotlib.legend.Legend at 0x7fcf08a3b3d0>"
            ]
          },
          "metadata": {},
          "execution_count": 95
        },
        {
          "output_type": "display_data",
          "data": {
            "text/plain": [
              "<Figure size 432x288 with 1 Axes>"
            ],
            "image/png": "[encoded data removed]"
          },
          "metadata": {
            "needs_background": "light"
          }
        }
      ],
      "source": [
        "# Define matrix for solving least squares.\n",
        "A = np.stack((np.ones(30),x, x**2), axis = -1)\n",
        "\n",
        "# Use solve_via_backsub to get a and b values.\n",
        "second_order_fit = np.flip(solve_via_backsub(A, y))\n",
        "\n",
        "print(second_order_fit)\n",
        "\n",
        "y_second_order_fit = second_order_fit[0] * x * x \\\n",
        "                     + second_order_fit[1] * x \\\n",
        "                     + second_order_fit[2]\n",
        "plt.plot(x, y, 'r.', markersize=10, label=r'$y = \\frac{4x}{(1+x)^{2}}$')\n",
        "plt.plot(x, y_second_order_fit, 'm--',\n",
        "         label=r'$y_{2} = %.2fx^{2} + %.2fx + %.2f$' % \\\n",
        "            (y_second_order_fit[0], y_second_order_fit[1], y_second_order_fit[2])\n",
        "         )\n",
        "plt.legend(loc='lower right')"
      ]
    },
    {
      "cell_type": "markdown",
      "metadata": {
        "id": "vcD5I-377Ydy"
      },
      "source": [
        "Now let's fit the data to a third order polynomial and fourth order polynomial."
      ]
    },
    {
      "cell_type": "code",
      "execution_count": 96,
      "metadata": {
        "id": "t_ow8Y107Ydy",
        "colab": {
          "base_uri": "https://localhost:8080/",
          "height": 302
        },
        "outputId": "18cd28d2-e4c7-4f2e-d359-4a456f8f5574"
      },
      "outputs": [
        {
          "output_type": "stream",
          "name": "stdout",
          "text": [
            "[ 0.40958818 -2.38357037  3.87422796  0.10524746]\n"
          ]
        },
        {
          "output_type": "execute_result",
          "data": {
            "text/plain": [
              "<matplotlib.legend.Legend at 0x7fcf08e16c40>"
            ]
          },
          "metadata": {},
          "execution_count": 96
        },
        {
          "output_type": "display_data",
          "data": {
            "text/plain": [
              "<Figure size 432x288 with 1 Axes>"
            ],
            "image/png": "[encoded data removed]"
          },
          "metadata": {
            "needs_background": "light"
          }
        }
      ],
      "source": [
        "# Do the third order polynomial fitting.\n",
        "# Define matrix for solving least squares.\n",
        "A = np.stack((np.ones(30),x, x**2, x**3), axis = -1)\n",
        "\n",
        "# Use solve_via_backsub to fit data.\n",
        "third_order_fit = np.flip(solve_via_backsub(A, y))\n",
        "\n",
        "\n",
        "print(third_order_fit)\n",
        "\n",
        "y_third_order_fit = third_order_fit[0] * x * x * x \\\n",
        "                    + third_order_fit[1] * x * x \\\n",
        "                    + third_order_fit[2] * x \\\n",
        "                    + third_order_fit[3]\n",
        "\n",
        "plt.plot(x, y, 'r.', markersize=10, label=r'$y = \\frac{4x}{(1+x)^{2}}$')\n",
        "plt.plot(x, y_third_order_fit, 'g--',\n",
        "         label=r'$y_{3} = %.2fx^{3} + %.2fx^{2} + %.2fx + %.2f$' % \\\n",
        "            (y_third_order_fit[0], y_third_order_fit[1], y_third_order_fit[2], y_third_order_fit[3])\n",
        "         )\n",
        "plt.legend(loc='lower right')"
      ]
    },
    {
      "cell_type": "code",
      "execution_count": 97,
      "metadata": {
        "id": "l-xo1vIo7Ydy",
        "colab": {
          "base_uri": "https://localhost:8080/",
          "height": 302
        },
        "outputId": "436a3b6c-9a9f-49d7-c4a7-39274da6c579"
      },
      "outputs": [
        {
          "output_type": "stream",
          "name": "stdout",
          "text": [
            "[-0.15768661  1.35570782 -4.18846192  5.03136426 -0.0418086 ]\n"
          ]
        },
        {
          "output_type": "execute_result",
          "data": {
            "text/plain": [
              "<matplotlib.legend.Legend at 0x7fcf08c8fbb0>"
            ]
          },
          "metadata": {},
          "execution_count": 97
        },
        {
          "output_type": "display_data",
          "data": {
            "text/plain": [
              "<Figure size 432x288 with 1 Axes>"
            ],
            "image/png": "[encoded data removed]"
          },
          "metadata": {
            "needs_background": "light"
          }
        }
      ],
      "source": [
        "# Do the fourth order polynomial fitting.\n",
        "# Define matrix for solving least squares.\n",
        "A = np.stack((np.ones(30),x, x**2, x**3, x**4), axis = -1)\n",
        "\n",
        "# Use solve_via_backsub to fit data.\n",
        "fourth_order_fit = np.flip(solve_via_backsub(A, y))\n",
        "\n",
        "print(fourth_order_fit)\n",
        "\n",
        "y_fourth_order_fit = fourth_order_fit[0] * x * x * x * x \\\n",
        "                     + fourth_order_fit[1] * x * x * x \\\n",
        "                     + fourth_order_fit[2] * x * x \\\n",
        "                     + fourth_order_fit[3] * x \\\n",
        "                     + fourth_order_fit[4]\n",
        "\n",
        "plt.plot(x, y, 'r.', markersize=10, label=r'$y = \\frac{4x}{(1+x)^{2}}$')\n",
        "plt.plot(x, y_fourth_order_fit, 'b--',\n",
        "         label=r'$y_{4} = %.2fx^{4} + %.2fx^{3} + %.2fx^{2} + %.2fx + %.2f$' % \\\n",
        "            (y_fourth_order_fit[0], y_fourth_order_fit[1], y_fourth_order_fit[2], y_fourth_order_fit[3], y_fourth_order_fit[4])\n",
        "         )\n",
        "plt.legend(loc='lower right')"
      ]
    },
    {
      "cell_type": "code",
      "execution_count": 98,
      "metadata": {
        "id": "43aHs_is7Ydy",
        "colab": {
          "base_uri": "https://localhost:8080/",
          "height": 357
        },
        "outputId": "3d905788-4899-4a07-c784-e550795ed1f6"
      },
      "outputs": [
        {
          "output_type": "stream",
          "name": "stdout",
          "text": [
            "Error for first order fit :  2.4939851788857763\n",
            "Error for second order fit :  1.3151556751045064\n",
            "Error for third order fit :  0.3854788421942195\n",
            "Error for fourth order fit :  0.0885521030363152\n"
          ]
        },
        {
          "output_type": "execute_result",
          "data": {
            "text/plain": [
              "<matplotlib.legend.Legend at 0x7fcf0883de20>"
            ]
          },
          "metadata": {},
          "execution_count": 98
        },
        {
          "output_type": "display_data",
          "data": {
            "text/plain": [
              "<Figure size 432x288 with 1 Axes>"
            ],
            "image/png": "[encoded data removed]"
          },
          "metadata": {
            "needs_background": "light"
          }
        }
      ],
      "source": [
        "# Let's see all fitting results.\n",
        "print(\"Error for first order fit : \", np.linalg.norm(y_line_fit - y))\n",
        "print(\"Error for second order fit : \", np.linalg.norm(y_second_order_fit - y))\n",
        "print(\"Error for third order fit : \", np.linalg.norm(y_third_order_fit - y))\n",
        "print(\"Error for fourth order fit : \", np.linalg.norm(y_fourth_order_fit - y))\n",
        "\n",
        "plt.plot(x, y, 'r.', markersize=10, label=r'$y = \\frac{4x}{(1+x)^{2}}$')\n",
        "plt.plot(x, y_line_fit, 'c--', label=r'$y_{1} = %.2fx + %.2f$' % (y_line_fit[0], y_line_fit[1]))\n",
        "plt.plot(x, y_second_order_fit, 'm--',\n",
        "         label=r'$y_{2} = %.2fx^{2} + %.2fx + %.2f$' % \\\n",
        "            (y_second_order_fit[0], y_second_order_fit[1], y_second_order_fit[2])\n",
        "         )\n",
        "plt.plot(x, y_third_order_fit, 'g--',\n",
        "         label=r'$y_{3} = %.2fx^{3} + %.2fx^{2} + %.2fx + %.2f$' % \\\n",
        "            (y_third_order_fit[0], y_third_order_fit[1], y_third_order_fit[2], y_third_order_fit[3])\n",
        "         )\n",
        "plt.plot(x, y_fourth_order_fit, 'b--',\n",
        "         label=r'$y_{4} = %.2fx^{4} + %.2fx^{3} + %.2fx^{2} + %.2fx + %.2f$' % \\\n",
        "            (y_fourth_order_fit[0], y_fourth_order_fit[1], y_fourth_order_fit[2], y_fourth_order_fit[3], y_fourth_order_fit[4])\n",
        "         )\n",
        "plt.legend(loc='lower right')"
      ]
    }
  ],
  "metadata": {
    "kernelspec": {
      "display_name": "Python 3.7.7 ('my_env')",
      "language": "python",
      "name": "python3"
    },
    "language_info": {
      "codemirror_mode": {
        "name": "ipython",
        "version": 3
      },
      "file_extension": ".py",
      "mimetype": "text/x-python",
      "name": "python",
      "nbconvert_exporter": "python",
      "pygments_lexer": "ipython3",
      "version": "3.7.7"
    },
    "orig_nbformat": 2,
    "vscode": {
      "interpreter": {
        "hash": "42a7e409af57eb34c93692474d693e3a5eb1c17869f5ad14b040c6c9fb40664f"
      }
    },
    "colab": {
      "provenance": [],
      "include_colab_link": true
    }
  },
  "nbformat": 4,
  "nbformat_minor": 0
}